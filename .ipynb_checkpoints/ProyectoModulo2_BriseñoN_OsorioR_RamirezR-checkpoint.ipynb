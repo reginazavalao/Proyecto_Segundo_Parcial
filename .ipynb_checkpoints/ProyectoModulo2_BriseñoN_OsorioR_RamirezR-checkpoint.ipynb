{
 "cells": [
  {
   "cell_type": "markdown",
   "metadata": {},
   "source": [
    "## Análisis de empresas dedicadas a la construcción\n",
    "****\n"
   ]
  },
  {
   "cell_type": "markdown",
   "metadata": {},
   "source": [
    "## Objetivo General\n",
    "***"
   ]
  },
  {
   "cell_type": "markdown",
   "metadata": {},
   "source": [
    ">El objetivo princiapl del proyecto, es analizar como el año 2020, año caracterizado por una pandemia, ha afectao al sector constructivo en las empresas más grandes de este rubro. Desde empresas de materia prima hasta de msima construcción. Todo esto analizando su trayectoria y desempeño ante este suceso extraordinario. \n",
    "\n",
    ">Por otro lado, reforzar conocimientos vistos en el último parcial de la clase de Simulación Matemática, realizando un propio ejercicio planteado por nuestro equipo, y lo más importante, dándole un enfoque de Ingeniería civil a lo visto en clase \n"
   ]
  },
  {
   "cell_type": "markdown",
   "metadata": {},
   "source": [
    "## Objetivos Específicos\n",
    "***"
   ]
  },
  {
   "cell_type": "markdown",
   "metadata": {},
   "source": [
    "> Definir una función que permite extraer los datos financieros de las empresas a analizar.\n",
    "\n",
    "> Emplear la fórmula de rendimiento y funciones de python para encontrar los resultados.\n",
    "\n",
    "> Organizar los datos para obtener los rendimientos en los intervalos de tiempo:\n",
    "* 2010 hasta la actualidad\n",
    "* 2020 hasta el úlitmo cierre diario\n",
    "\n",
    "> Representar visualmente los datos anteriores.\n",
    "\n",
    "> Interpretar los datos numéricos apoyándose de las gráficas y concluir que tanto afecto la pandemia a la industria de la construcción."
   ]
  },
  {
   "cell_type": "markdown",
   "metadata": {},
   "source": [
    "## Módelo\n",
    "***"
   ]
  },
  {
   "cell_type": "markdown",
   "metadata": {},
   "source": [
    "Se plantea la hipótesis de que el rendimiento $R_t$ se moldea a partir de un proceso estocástico estacionario en la media, donde el rendimiento se calcula a partir de:"
   ]
  },
  {
   "cell_type": "markdown",
   "metadata": {},
   "source": [
    "$$\n",
    "R_t=\\frac{S_t-S_{t-1}}{S_{t-1}}\n",
    "$$\n",
    "para $t=1,\\ldots,n$."
   ]
  },
  {
   "cell_type": "markdown",
   "metadata": {},
   "source": [
    "La media y desviación estándar de los rendimientos a simular son los siguientes:"
   ]
  },
  {
   "cell_type": "markdown",
   "metadata": {},
   "source": [
    "$$\n",
    "R.mean()\n",
    "$$\n",
    "$$\n",
    "R.std()\n",
    "$$"
   ]
  },
  {
   "cell_type": "markdown",
   "metadata": {},
   "source": [
    "## Solución\n",
    "***"
   ]
  },
  {
   "cell_type": "code",
   "execution_count": 8,
   "metadata": {},
   "outputs": [],
   "source": [
    "import pandas_datareader.data as web\n",
    "import matplotlib.pyplot as plt"
   ]
  },
  {
   "cell_type": "code",
   "execution_count": 1,
   "metadata": {},
   "outputs": [],
   "source": [
    "def getCloses(names,start,end):\n",
    "    datos = web.DataReader(names,'yahoo',start,end)\n",
    "    return datos['Adj Close']"
   ]
  },
  {
   "cell_type": "markdown",
   "metadata": {},
   "source": [
    ">Empresas analizadas en el proyecto:\n",
    "* 601668.SS - China State Construction Engineering Corporation\n",
    "* X - Granite Construction Incorporated\n",
    "* GVA - United States Steel Corporation\n",
    "* BIP - Brookfield Infrastructure Partners L.P"
   ]
  },
  {
   "cell_type": "markdown",
   "metadata": {},
   "source": [
    "> Se agrupan los datos en una tabla, para visualizar la información obtenida de \"Yahoo Finance\"."
   ]
  },
  {
   "cell_type": "code",
   "execution_count": 10,
   "metadata": {},
   "outputs": [],
   "source": [
    "# Datos durante 10 años\n",
    "names = ['601668.SS','X','GVA','BIP']\n",
    "start='2010-11-10'\n",
    "end='2020-11-10'\n",
    "datos=getCloses(names,start,end)"
   ]
  },
  {
   "cell_type": "code",
   "execution_count": 21,
   "metadata": {},
   "outputs": [],
   "source": [
    "# Datos durante 2020\n",
    "names = ['601668.SS','X','GVA','BIP']\n",
    "starts='2020-01-01'\n",
    "ends='2020-11-10'\n",
    "datos1=getCloses(names,starts,ends)"
   ]
  },
  {
   "cell_type": "code",
   "execution_count": 12,
   "metadata": {},
   "outputs": [
    {
     "data": {
      "text/html": [
       "<div>\n",
       "<style scoped>\n",
       "    .dataframe tbody tr th:only-of-type {\n",
       "        vertical-align: middle;\n",
       "    }\n",
       "\n",
       "    .dataframe tbody tr th {\n",
       "        vertical-align: top;\n",
       "    }\n",
       "\n",
       "    .dataframe thead tr th {\n",
       "        text-align: left;\n",
       "    }\n",
       "\n",
       "    .dataframe thead tr:last-of-type th {\n",
       "        text-align: right;\n",
       "    }\n",
       "</style>\n",
       "<table border=\"1\" class=\"dataframe\">\n",
       "  <thead>\n",
       "    <tr>\n",
       "      <th>Attributes</th>\n",
       "      <th colspan=\"4\" halign=\"left\">Adj Close</th>\n",
       "      <th colspan=\"4\" halign=\"left\">Close</th>\n",
       "      <th colspan=\"2\" halign=\"left\">High</th>\n",
       "      <th>...</th>\n",
       "      <th colspan=\"2\" halign=\"left\">Low</th>\n",
       "      <th colspan=\"4\" halign=\"left\">Open</th>\n",
       "      <th colspan=\"4\" halign=\"left\">Volume</th>\n",
       "    </tr>\n",
       "    <tr>\n",
       "      <th>Symbols</th>\n",
       "      <th>601668.SS</th>\n",
       "      <th>X</th>\n",
       "      <th>GVA</th>\n",
       "      <th>BIP</th>\n",
       "      <th>601668.SS</th>\n",
       "      <th>X</th>\n",
       "      <th>GVA</th>\n",
       "      <th>BIP</th>\n",
       "      <th>601668.SS</th>\n",
       "      <th>X</th>\n",
       "      <th>...</th>\n",
       "      <th>GVA</th>\n",
       "      <th>BIP</th>\n",
       "      <th>601668.SS</th>\n",
       "      <th>X</th>\n",
       "      <th>GVA</th>\n",
       "      <th>BIP</th>\n",
       "      <th>601668.SS</th>\n",
       "      <th>X</th>\n",
       "      <th>GVA</th>\n",
       "      <th>BIP</th>\n",
       "    </tr>\n",
       "    <tr>\n",
       "      <th>Date</th>\n",
       "      <th></th>\n",
       "      <th></th>\n",
       "      <th></th>\n",
       "      <th></th>\n",
       "      <th></th>\n",
       "      <th></th>\n",
       "      <th></th>\n",
       "      <th></th>\n",
       "      <th></th>\n",
       "      <th></th>\n",
       "      <th></th>\n",
       "      <th></th>\n",
       "      <th></th>\n",
       "      <th></th>\n",
       "      <th></th>\n",
       "      <th></th>\n",
       "      <th></th>\n",
       "      <th></th>\n",
       "      <th></th>\n",
       "      <th></th>\n",
       "      <th></th>\n",
       "    </tr>\n",
       "  </thead>\n",
       "  <tbody>\n",
       "    <tr>\n",
       "      <td>2010-11-10</td>\n",
       "      <td>1.817474</td>\n",
       "      <td>43.635548</td>\n",
       "      <td>23.889723</td>\n",
       "      <td>8.214520</td>\n",
       "      <td>2.62857</td>\n",
       "      <td>47.630001</td>\n",
       "      <td>28.059999</td>\n",
       "      <td>13.535714</td>\n",
       "      <td>2.67857</td>\n",
       "      <td>47.880001</td>\n",
       "      <td>...</td>\n",
       "      <td>26.740000</td>\n",
       "      <td>13.363095</td>\n",
       "      <td>2.66429</td>\n",
       "      <td>47.459999</td>\n",
       "      <td>26.840000</td>\n",
       "      <td>13.517858</td>\n",
       "      <td>218141304.0</td>\n",
       "      <td>10396700.0</td>\n",
       "      <td>498000.0</td>\n",
       "      <td>109600.0</td>\n",
       "    </tr>\n",
       "    <tr>\n",
       "      <td>2010-11-11</td>\n",
       "      <td>1.827355</td>\n",
       "      <td>43.791283</td>\n",
       "      <td>23.830126</td>\n",
       "      <td>8.185621</td>\n",
       "      <td>2.64286</td>\n",
       "      <td>47.799999</td>\n",
       "      <td>27.990000</td>\n",
       "      <td>13.488095</td>\n",
       "      <td>2.68571</td>\n",
       "      <td>48.209999</td>\n",
       "      <td>...</td>\n",
       "      <td>27.080000</td>\n",
       "      <td>13.363095</td>\n",
       "      <td>2.62143</td>\n",
       "      <td>47.150002</td>\n",
       "      <td>27.549999</td>\n",
       "      <td>13.452381</td>\n",
       "      <td>287645223.0</td>\n",
       "      <td>8307500.0</td>\n",
       "      <td>582000.0</td>\n",
       "      <td>123400.0</td>\n",
       "    </tr>\n",
       "    <tr>\n",
       "      <td>2010-11-12</td>\n",
       "      <td>1.738458</td>\n",
       "      <td>43.204960</td>\n",
       "      <td>22.927660</td>\n",
       "      <td>7.950816</td>\n",
       "      <td>2.51429</td>\n",
       "      <td>47.160000</td>\n",
       "      <td>26.930000</td>\n",
       "      <td>13.101191</td>\n",
       "      <td>2.63571</td>\n",
       "      <td>48.139999</td>\n",
       "      <td>...</td>\n",
       "      <td>26.920000</td>\n",
       "      <td>12.916667</td>\n",
       "      <td>2.62857</td>\n",
       "      <td>47.049999</td>\n",
       "      <td>27.680000</td>\n",
       "      <td>13.339286</td>\n",
       "      <td>362394755.0</td>\n",
       "      <td>9844900.0</td>\n",
       "      <td>337000.0</td>\n",
       "      <td>297800.0</td>\n",
       "    </tr>\n",
       "    <tr>\n",
       "      <td>2010-11-15</td>\n",
       "      <td>1.748331</td>\n",
       "      <td>42.646118</td>\n",
       "      <td>22.748873</td>\n",
       "      <td>8.012223</td>\n",
       "      <td>2.52857</td>\n",
       "      <td>46.549999</td>\n",
       "      <td>26.719999</td>\n",
       "      <td>13.202381</td>\n",
       "      <td>2.54286</td>\n",
       "      <td>47.270000</td>\n",
       "      <td>...</td>\n",
       "      <td>26.660000</td>\n",
       "      <td>13.077381</td>\n",
       "      <td>2.52857</td>\n",
       "      <td>47.209999</td>\n",
       "      <td>27.090000</td>\n",
       "      <td>13.267858</td>\n",
       "      <td>154000405.0</td>\n",
       "      <td>7971500.0</td>\n",
       "      <td>358300.0</td>\n",
       "      <td>138000.0</td>\n",
       "    </tr>\n",
       "    <tr>\n",
       "      <td>2010-11-16</td>\n",
       "      <td>1.698942</td>\n",
       "      <td>41.620049</td>\n",
       "      <td>22.025202</td>\n",
       "      <td>7.730461</td>\n",
       "      <td>2.45714</td>\n",
       "      <td>45.430000</td>\n",
       "      <td>25.870001</td>\n",
       "      <td>12.738095</td>\n",
       "      <td>2.53571</td>\n",
       "      <td>46.090000</td>\n",
       "      <td>...</td>\n",
       "      <td>25.670000</td>\n",
       "      <td>12.559524</td>\n",
       "      <td>2.53571</td>\n",
       "      <td>45.959999</td>\n",
       "      <td>26.490000</td>\n",
       "      <td>13.238095</td>\n",
       "      <td>215977775.0</td>\n",
       "      <td>10528400.0</td>\n",
       "      <td>460000.0</td>\n",
       "      <td>157600.0</td>\n",
       "    </tr>\n",
       "    <tr>\n",
       "      <td>...</td>\n",
       "      <td>...</td>\n",
       "      <td>...</td>\n",
       "      <td>...</td>\n",
       "      <td>...</td>\n",
       "      <td>...</td>\n",
       "      <td>...</td>\n",
       "      <td>...</td>\n",
       "      <td>...</td>\n",
       "      <td>...</td>\n",
       "      <td>...</td>\n",
       "      <td>...</td>\n",
       "      <td>...</td>\n",
       "      <td>...</td>\n",
       "      <td>...</td>\n",
       "      <td>...</td>\n",
       "      <td>...</td>\n",
       "      <td>...</td>\n",
       "      <td>...</td>\n",
       "      <td>...</td>\n",
       "      <td>...</td>\n",
       "      <td>...</td>\n",
       "    </tr>\n",
       "    <tr>\n",
       "      <td>2020-11-04</td>\n",
       "      <td>5.230000</td>\n",
       "      <td>9.080600</td>\n",
       "      <td>18.910000</td>\n",
       "      <td>44.910000</td>\n",
       "      <td>5.23000</td>\n",
       "      <td>9.090000</td>\n",
       "      <td>18.910000</td>\n",
       "      <td>44.910000</td>\n",
       "      <td>5.24000</td>\n",
       "      <td>9.720000</td>\n",
       "      <td>...</td>\n",
       "      <td>18.639999</td>\n",
       "      <td>44.480000</td>\n",
       "      <td>5.16000</td>\n",
       "      <td>9.720000</td>\n",
       "      <td>19.799999</td>\n",
       "      <td>44.950001</td>\n",
       "      <td>323490733.0</td>\n",
       "      <td>23140600.0</td>\n",
       "      <td>583100.0</td>\n",
       "      <td>187500.0</td>\n",
       "    </tr>\n",
       "    <tr>\n",
       "      <td>2020-11-05</td>\n",
       "      <td>5.270000</td>\n",
       "      <td>9.660000</td>\n",
       "      <td>19.780001</td>\n",
       "      <td>46.330002</td>\n",
       "      <td>5.27000</td>\n",
       "      <td>9.670000</td>\n",
       "      <td>19.780001</td>\n",
       "      <td>46.330002</td>\n",
       "      <td>5.27000</td>\n",
       "      <td>9.920000</td>\n",
       "      <td>...</td>\n",
       "      <td>19.129999</td>\n",
       "      <td>45.540001</td>\n",
       "      <td>5.24000</td>\n",
       "      <td>9.240000</td>\n",
       "      <td>19.139999</td>\n",
       "      <td>45.689999</td>\n",
       "      <td>321731845.0</td>\n",
       "      <td>11598600.0</td>\n",
       "      <td>373800.0</td>\n",
       "      <td>269700.0</td>\n",
       "    </tr>\n",
       "    <tr>\n",
       "      <td>2020-11-06</td>\n",
       "      <td>5.370000</td>\n",
       "      <td>9.900000</td>\n",
       "      <td>19.830000</td>\n",
       "      <td>46.759998</td>\n",
       "      <td>5.37000</td>\n",
       "      <td>9.900000</td>\n",
       "      <td>19.830000</td>\n",
       "      <td>46.759998</td>\n",
       "      <td>5.39000</td>\n",
       "      <td>10.240000</td>\n",
       "      <td>...</td>\n",
       "      <td>19.590000</td>\n",
       "      <td>46.160000</td>\n",
       "      <td>5.27000</td>\n",
       "      <td>9.740000</td>\n",
       "      <td>20.049999</td>\n",
       "      <td>46.320000</td>\n",
       "      <td>464654237.0</td>\n",
       "      <td>11991000.0</td>\n",
       "      <td>166400.0</td>\n",
       "      <td>241200.0</td>\n",
       "    </tr>\n",
       "    <tr>\n",
       "      <td>2020-11-09</td>\n",
       "      <td>5.310000</td>\n",
       "      <td>10.530000</td>\n",
       "      <td>20.100000</td>\n",
       "      <td>49.730000</td>\n",
       "      <td>5.31000</td>\n",
       "      <td>10.530000</td>\n",
       "      <td>20.100000</td>\n",
       "      <td>49.730000</td>\n",
       "      <td>5.45000</td>\n",
       "      <td>11.000000</td>\n",
       "      <td>...</td>\n",
       "      <td>20.100000</td>\n",
       "      <td>48.529999</td>\n",
       "      <td>5.40000</td>\n",
       "      <td>10.500000</td>\n",
       "      <td>22.530001</td>\n",
       "      <td>48.529999</td>\n",
       "      <td>533441608.0</td>\n",
       "      <td>18466400.0</td>\n",
       "      <td>666300.0</td>\n",
       "      <td>524000.0</td>\n",
       "    </tr>\n",
       "    <tr>\n",
       "      <td>2020-11-10</td>\n",
       "      <td>5.270000</td>\n",
       "      <td>10.370000</td>\n",
       "      <td>23.670000</td>\n",
       "      <td>50.990002</td>\n",
       "      <td>5.27000</td>\n",
       "      <td>10.370000</td>\n",
       "      <td>23.670000</td>\n",
       "      <td>50.990002</td>\n",
       "      <td>5.37000</td>\n",
       "      <td>10.730000</td>\n",
       "      <td>...</td>\n",
       "      <td>20.299999</td>\n",
       "      <td>49.759998</td>\n",
       "      <td>5.31000</td>\n",
       "      <td>10.570000</td>\n",
       "      <td>20.469999</td>\n",
       "      <td>50.259998</td>\n",
       "      <td>289972402.0</td>\n",
       "      <td>10049200.0</td>\n",
       "      <td>1620200.0</td>\n",
       "      <td>338000.0</td>\n",
       "    </tr>\n",
       "  </tbody>\n",
       "</table>\n",
       "<p>2349 rows × 24 columns</p>\n",
       "</div>"
      ],
      "text/plain": [
       "Attributes Adj Close                                      Close             \\\n",
       "Symbols    601668.SS          X        GVA        BIP 601668.SS          X   \n",
       "Date                                                                         \n",
       "2010-11-10  1.817474  43.635548  23.889723   8.214520   2.62857  47.630001   \n",
       "2010-11-11  1.827355  43.791283  23.830126   8.185621   2.64286  47.799999   \n",
       "2010-11-12  1.738458  43.204960  22.927660   7.950816   2.51429  47.160000   \n",
       "2010-11-15  1.748331  42.646118  22.748873   8.012223   2.52857  46.549999   \n",
       "2010-11-16  1.698942  41.620049  22.025202   7.730461   2.45714  45.430000   \n",
       "...              ...        ...        ...        ...       ...        ...   \n",
       "2020-11-04  5.230000   9.080600  18.910000  44.910000   5.23000   9.090000   \n",
       "2020-11-05  5.270000   9.660000  19.780001  46.330002   5.27000   9.670000   \n",
       "2020-11-06  5.370000   9.900000  19.830000  46.759998   5.37000   9.900000   \n",
       "2020-11-09  5.310000  10.530000  20.100000  49.730000   5.31000  10.530000   \n",
       "2020-11-10  5.270000  10.370000  23.670000  50.990002   5.27000  10.370000   \n",
       "\n",
       "Attributes                            High             ...        Low  \\\n",
       "Symbols           GVA        BIP 601668.SS          X  ...        GVA   \n",
       "Date                                                   ...              \n",
       "2010-11-10  28.059999  13.535714   2.67857  47.880001  ...  26.740000   \n",
       "2010-11-11  27.990000  13.488095   2.68571  48.209999  ...  27.080000   \n",
       "2010-11-12  26.930000  13.101191   2.63571  48.139999  ...  26.920000   \n",
       "2010-11-15  26.719999  13.202381   2.54286  47.270000  ...  26.660000   \n",
       "2010-11-16  25.870001  12.738095   2.53571  46.090000  ...  25.670000   \n",
       "...               ...        ...       ...        ...  ...        ...   \n",
       "2020-11-04  18.910000  44.910000   5.24000   9.720000  ...  18.639999   \n",
       "2020-11-05  19.780001  46.330002   5.27000   9.920000  ...  19.129999   \n",
       "2020-11-06  19.830000  46.759998   5.39000  10.240000  ...  19.590000   \n",
       "2020-11-09  20.100000  49.730000   5.45000  11.000000  ...  20.100000   \n",
       "2020-11-10  23.670000  50.990002   5.37000  10.730000  ...  20.299999   \n",
       "\n",
       "Attributes                 Open                                        Volume  \\\n",
       "Symbols           BIP 601668.SS          X        GVA        BIP    601668.SS   \n",
       "Date                                                                            \n",
       "2010-11-10  13.363095   2.66429  47.459999  26.840000  13.517858  218141304.0   \n",
       "2010-11-11  13.363095   2.62143  47.150002  27.549999  13.452381  287645223.0   \n",
       "2010-11-12  12.916667   2.62857  47.049999  27.680000  13.339286  362394755.0   \n",
       "2010-11-15  13.077381   2.52857  47.209999  27.090000  13.267858  154000405.0   \n",
       "2010-11-16  12.559524   2.53571  45.959999  26.490000  13.238095  215977775.0   \n",
       "...               ...       ...        ...        ...        ...          ...   \n",
       "2020-11-04  44.480000   5.16000   9.720000  19.799999  44.950001  323490733.0   \n",
       "2020-11-05  45.540001   5.24000   9.240000  19.139999  45.689999  321731845.0   \n",
       "2020-11-06  46.160000   5.27000   9.740000  20.049999  46.320000  464654237.0   \n",
       "2020-11-09  48.529999   5.40000  10.500000  22.530001  48.529999  533441608.0   \n",
       "2020-11-10  49.759998   5.31000  10.570000  20.469999  50.259998  289972402.0   \n",
       "\n",
       "Attributes                                   \n",
       "Symbols              X        GVA       BIP  \n",
       "Date                                         \n",
       "2010-11-10  10396700.0   498000.0  109600.0  \n",
       "2010-11-11   8307500.0   582000.0  123400.0  \n",
       "2010-11-12   9844900.0   337000.0  297800.0  \n",
       "2010-11-15   7971500.0   358300.0  138000.0  \n",
       "2010-11-16  10528400.0   460000.0  157600.0  \n",
       "...                ...        ...       ...  \n",
       "2020-11-04  23140600.0   583100.0  187500.0  \n",
       "2020-11-05  11598600.0   373800.0  269700.0  \n",
       "2020-11-06  11991000.0   166400.0  241200.0  \n",
       "2020-11-09  18466400.0   666300.0  524000.0  \n",
       "2020-11-10  10049200.0  1620200.0  338000.0  \n",
       "\n",
       "[2349 rows x 24 columns]"
      ]
     },
     "execution_count": 12,
     "metadata": {},
     "output_type": "execute_result"
    }
   ],
   "source": [
    "data = web.DataReader(names,'yahoo','2010-11-10','2020-11-10').dropna()\n",
    "data"
   ]
  },
  {
   "cell_type": "markdown",
   "metadata": {},
   "source": [
    "> Se calculan los rendimientos con la fórmula previamente descrita, la cual utilizamos como modelo para el proyecto."
   ]
  },
  {
   "cell_type": "code",
   "execution_count": 14,
   "metadata": {},
   "outputs": [
    {
     "data": {
      "text/html": [
       "<div>\n",
       "<style scoped>\n",
       "    .dataframe tbody tr th:only-of-type {\n",
       "        vertical-align: middle;\n",
       "    }\n",
       "\n",
       "    .dataframe tbody tr th {\n",
       "        vertical-align: top;\n",
       "    }\n",
       "\n",
       "    .dataframe thead th {\n",
       "        text-align: right;\n",
       "    }\n",
       "</style>\n",
       "<table border=\"1\" class=\"dataframe\">\n",
       "  <thead>\n",
       "    <tr style=\"text-align: right;\">\n",
       "      <th>Symbols</th>\n",
       "      <th>601668.SS</th>\n",
       "      <th>X</th>\n",
       "      <th>GVA</th>\n",
       "      <th>BIP</th>\n",
       "    </tr>\n",
       "    <tr>\n",
       "      <th>Date</th>\n",
       "      <th></th>\n",
       "      <th></th>\n",
       "      <th></th>\n",
       "      <th></th>\n",
       "    </tr>\n",
       "  </thead>\n",
       "  <tbody>\n",
       "    <tr>\n",
       "      <td>2010-11-11</td>\n",
       "      <td>0.005436</td>\n",
       "      <td>0.003569</td>\n",
       "      <td>-0.002495</td>\n",
       "      <td>-0.003518</td>\n",
       "    </tr>\n",
       "    <tr>\n",
       "      <td>2010-11-12</td>\n",
       "      <td>-0.048648</td>\n",
       "      <td>-0.013389</td>\n",
       "      <td>-0.037871</td>\n",
       "      <td>-0.028685</td>\n",
       "    </tr>\n",
       "    <tr>\n",
       "      <td>2010-11-15</td>\n",
       "      <td>0.005680</td>\n",
       "      <td>-0.012935</td>\n",
       "      <td>-0.007798</td>\n",
       "      <td>0.007723</td>\n",
       "    </tr>\n",
       "    <tr>\n",
       "      <td>2010-11-16</td>\n",
       "      <td>-0.028249</td>\n",
       "      <td>-0.024060</td>\n",
       "      <td>-0.031811</td>\n",
       "      <td>-0.035167</td>\n",
       "    </tr>\n",
       "    <tr>\n",
       "      <td>2010-11-17</td>\n",
       "      <td>0.000000</td>\n",
       "      <td>-0.002421</td>\n",
       "      <td>0.001546</td>\n",
       "      <td>-0.005607</td>\n",
       "    </tr>\n",
       "    <tr>\n",
       "      <td>...</td>\n",
       "      <td>...</td>\n",
       "      <td>...</td>\n",
       "      <td>...</td>\n",
       "      <td>...</td>\n",
       "    </tr>\n",
       "    <tr>\n",
       "      <td>2020-11-04</td>\n",
       "      <td>0.013566</td>\n",
       "      <td>-0.087349</td>\n",
       "      <td>-0.073493</td>\n",
       "      <td>-0.000445</td>\n",
       "    </tr>\n",
       "    <tr>\n",
       "      <td>2020-11-05</td>\n",
       "      <td>0.007648</td>\n",
       "      <td>0.063806</td>\n",
       "      <td>0.046007</td>\n",
       "      <td>0.031619</td>\n",
       "    </tr>\n",
       "    <tr>\n",
       "      <td>2020-11-06</td>\n",
       "      <td>0.018975</td>\n",
       "      <td>0.024845</td>\n",
       "      <td>0.002528</td>\n",
       "      <td>0.009281</td>\n",
       "    </tr>\n",
       "    <tr>\n",
       "      <td>2020-11-09</td>\n",
       "      <td>-0.011173</td>\n",
       "      <td>0.063636</td>\n",
       "      <td>0.013616</td>\n",
       "      <td>0.063516</td>\n",
       "    </tr>\n",
       "    <tr>\n",
       "      <td>2020-11-10</td>\n",
       "      <td>-0.007533</td>\n",
       "      <td>-0.015195</td>\n",
       "      <td>0.177612</td>\n",
       "      <td>0.025337</td>\n",
       "    </tr>\n",
       "  </tbody>\n",
       "</table>\n",
       "<p>2209 rows × 4 columns</p>\n",
       "</div>"
      ],
      "text/plain": [
       "Symbols     601668.SS         X       GVA       BIP\n",
       "Date                                               \n",
       "2010-11-11   0.005436  0.003569 -0.002495 -0.003518\n",
       "2010-11-12  -0.048648 -0.013389 -0.037871 -0.028685\n",
       "2010-11-15   0.005680 -0.012935 -0.007798  0.007723\n",
       "2010-11-16  -0.028249 -0.024060 -0.031811 -0.035167\n",
       "2010-11-17   0.000000 -0.002421  0.001546 -0.005607\n",
       "...               ...       ...       ...       ...\n",
       "2020-11-04   0.013566 -0.087349 -0.073493 -0.000445\n",
       "2020-11-05   0.007648  0.063806  0.046007  0.031619\n",
       "2020-11-06   0.018975  0.024845  0.002528  0.009281\n",
       "2020-11-09  -0.011173  0.063636  0.013616  0.063516\n",
       "2020-11-10  -0.007533 -0.015195  0.177612  0.025337\n",
       "\n",
       "[2209 rows x 4 columns]"
      ]
     },
     "execution_count": 14,
     "metadata": {},
     "output_type": "execute_result"
    }
   ],
   "source": [
    "R = ((datos-datos.shift())/datos.shift()).dropna()\n",
    "R"
   ]
  },
  {
   "cell_type": "markdown",
   "metadata": {},
   "source": [
    "> Se calcula la media, la cual representa el promedio del rendimiento de cada empresa a lo largo del intervalo de tiempo establecido."
   ]
  },
  {
   "cell_type": "code",
   "execution_count": 17,
   "metadata": {},
   "outputs": [
    {
     "data": {
      "text/plain": [
       "Symbols\n",
       "601668.SS    0.000569\n",
       "X            0.000135\n",
       "GVA          0.000274\n",
       "BIP          0.000823\n",
       "dtype: float64"
      ]
     },
     "execution_count": 17,
     "metadata": {},
     "output_type": "execute_result"
    }
   ],
   "source": [
    "R.mean()"
   ]
  },
  {
   "cell_type": "markdown",
   "metadata": {},
   "source": [
    "> Se calcula la desviación estándar, que representa que tanto cambio el rendimiento conforme a su punto de equilibrio."
   ]
  },
  {
   "cell_type": "code",
   "execution_count": 18,
   "metadata": {},
   "outputs": [
    {
     "data": {
      "text/plain": [
       "Symbols\n",
       "601668.SS    0.020548\n",
       "X            0.036673\n",
       "GVA          0.027354\n",
       "BIP          0.016144\n",
       "dtype: float64"
      ]
     },
     "execution_count": 18,
     "metadata": {},
     "output_type": "execute_result"
    }
   ],
   "source": [
    "R.std()"
   ]
  },
  {
   "cell_type": "markdown",
   "metadata": {},
   "source": [
    "## Visualización de la solución\n",
    "***"
   ]
  },
  {
   "cell_type": "markdown",
   "metadata": {},
   "source": [
    "> En la siguiente gráfica podemos observar el comportamiento de los datos obtenidos durante los últimos 10 años."
   ]
  },
  {
   "cell_type": "code",
   "execution_count": 11,
   "metadata": {},
   "outputs": [
    {
     "data": {
      "text/plain": [
       "<matplotlib.axes._subplots.AxesSubplot at 0x2af96b42c08>"
      ]
     },
     "execution_count": 11,
     "metadata": {},
     "output_type": "execute_result"
    },
    {
     "data": {
      "image/png": "[encoded data removed]",
      "text/plain": [
       "<Figure size 432x288 with 1 Axes>"
      ]
     },
     "metadata": {
      "needs_background": "light"
     },
     "output_type": "display_data"
    }
   ],
   "source": [
    "datos.plot()"
   ]
  },
  {
   "cell_type": "markdown",
   "metadata": {},
   "source": [
    "> Gráfica que representa el comportamiento de las empresas en el 2020, la cual nos ayudará a darnos cuenta de como afecto la pandemia a la industria de la construcción."
   ]
  },
  {
   "cell_type": "code",
   "execution_count": 22,
   "metadata": {},
   "outputs": [
    {
     "data": {
      "text/plain": [
       "<matplotlib.axes._subplots.AxesSubplot at 0x2af96d25548>"
      ]
     },
     "execution_count": 22,
     "metadata": {},
     "output_type": "execute_result"
    },
    {
     "data": {
      "image/png": "[encoded data removed]",
      "text/plain": [
       "<Figure size 432x288 with 1 Axes>"
      ]
     },
     "metadata": {
      "needs_background": "light"
     },
     "output_type": "display_data"
    }
   ],
   "source": [
    "datos1.plot()"
   ]
  },
  {
   "cell_type": "markdown",
   "metadata": {},
   "source": [
    "> Al gráficar los histogramas de cada una de las empresas, podemos darnos cuenta de que la fórmula de rendimiento que utilizamos fue la correcta."
   ]
  },
  {
   "cell_type": "code",
   "execution_count": 16,
   "metadata": {},
   "outputs": [
    {
     "data": {
      "text/plain": [
       "array([[<matplotlib.axes._subplots.AxesSubplot object at 0x000002AF96506CC8>,\n",
       "        <matplotlib.axes._subplots.AxesSubplot object at 0x000002AF96B5B888>],\n",
       "       [<matplotlib.axes._subplots.AxesSubplot object at 0x000002AF96750708>,\n",
       "        <matplotlib.axes._subplots.AxesSubplot object at 0x000002AF96535B08>]],\n",
       "      dtype=object)"
      ]
     },
     "execution_count": 16,
     "metadata": {},
     "output_type": "execute_result"
    },
    {
     "data": {
      "image/png": "[encoded data removed]",
      "text/plain": [
       "<Figure size 432x288 with 4 Axes>"
      ]
     },
     "metadata": {
      "needs_background": "light"
     },
     "output_type": "display_data"
    }
   ],
   "source": [
    "R.hist(bins=60)"
   ]
  },
  {
   "cell_type": "markdown",
   "metadata": {},
   "source": [
    "> El ruido de la gráfica representa quétan abruptos fueron los cambios del rendimiento respecto al punto de equilibrio."
   ]
  },
  {
   "cell_type": "code",
   "execution_count": 15,
   "metadata": {},
   "outputs": [
    {
     "data": {
      "text/plain": [
       "<matplotlib.axes._subplots.AxesSubplot at 0x2af96bcecc8>"
      ]
     },
     "execution_count": 15,
     "metadata": {},
     "output_type": "execute_result"
    },
    {
     "data": {
      "image/png": "[encoded data removed]",
      "text/plain": [
       "<Figure size 432x288 with 1 Axes>"
      ]
     },
     "metadata": {
      "needs_background": "light"
     },
     "output_type": "display_data"
    }
   ],
   "source": [
    "R.plot(grid=True)"
   ]
  },
  {
   "cell_type": "markdown",
   "metadata": {},
   "source": [
    "## Conclusiones\n",
    "***"
   ]
  },
  {
   "cell_type": "markdown",
   "metadata": {},
   "source": [
    "Haciendo un análisis con base en las gráficas obtenidas:\n",
    "> **601668.SS - China State Construction Engineering Corporation:** se puede apreciar que mantuvo un equilibrio financiero. Es interesante ya que, esta empresa vivió de cerca el desborde de la pandemia, lo cual ayudó a que manejaran la situación de una manera óptima.\n",
    "\n",
    "> **X - Granite Construction Incorporated:** podemos decir que en los últimos diez años la empresa a decaido paulatinamente, empezaba a recuperarse en los últimos cinco años, sin embargo, la crisis del 2020 contribuyó a que siguiera descendiendo.\n",
    "\n",
    "> **GVA - United States Steel Corporation:** en los últimos diez años esta empresa estaba teniendo un éxito constante y ascendente, a pesar de esto, se puede apreciar que fue la segunda más afectada de este análisis en el 2020. Ya que se aprecia un declive muy agresivo en el periodo de Febrero a Marzo.\n",
    "\n",
    "> **BIP - Brookfield Infrastructure Partners L.P:** a pesar de que tuvo el declive más abrupto entre estas cuatro empresas, se puede ver que manejó la situación a su favor y en la actualidad ya recuperó lo que había perdido.\n",
    "\n",
    "Sin duda el sector de la construcción, como muchas otras actividades laborales, se vio afectada con la crisis económica del 2020. Es necesario recalcar que las empresas analizadas son de nivel Internacional con ganancias considerables, lo cual presenta un reto aún mayor para las empresas más pequeñas."
   ]
  },
  {
   "cell_type": "markdown",
   "metadata": {},
   "source": [
    "## Referencias\n",
    "***"
   ]
  },
  {
   "cell_type": "markdown",
   "metadata": {},
   "source": [
    "Fuentes de datos financieros:\n",
    "\n",
    "https://finance.yahoo.com/quote/X?p=X&.tsrc=fin-srch\n",
    "\n",
    "https://finance.yahoo.com/quote/601668.SS?p=601668.SS&.tsrc=fin-srch\n",
    "\n",
    "https://finance.yahoo.com/quote/GVA?p=GVA&.tsrc=fin-srch\n",
    "\n",
    "https://finance.yahoo.com/quote/BIP?p=BIP&.tsrc=fin-srch"
   ]
  }
 ],
 "metadata": {
  "kernelspec": {
   "display_name": "Python 3",
   "language": "python",
   "name": "python3"
  },
  "language_info": {
   "codemirror_mode": {
    "name": "ipython",
    "version": 3
   },
   "file_extension": ".py",
   "mimetype": "text/x-python",
   "name": "python",
   "nbconvert_exporter": "python",
   "pygments_lexer": "ipython3",
   "version": "3.8.3"
  }
 },
 "nbformat": 4,
 "nbformat_minor": 2
}
